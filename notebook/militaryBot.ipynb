{
 "cells": [
  {
   "cell_type": "code",
   "execution_count": 1,
   "id": "1c7b4210-cd7d-44c0-842a-33870d95144c",
   "metadata": {},
   "outputs": [],
   "source": [
    "from langchain_community.document_loaders import PyPDFLoader\n",
    "from concurrent.futures import ThreadPoolExecutor"
   ]
  },
  {
   "cell_type": "code",
   "execution_count": 14,
   "id": "205e860d-856d-4305-a041-83e16a2b7e4a",
   "metadata": {},
   "outputs": [],
   "source": [
    "pdf_files = [\n",
    "    \"Abbreviations.pdf\",\n",
    "    \"EthnicandCrimeInsurgencyNexusinIndia.pdf\",\n",
    "    \"GreyzoneWarfare.pdf\",\n",
    "    \"IndiaAdhocArsenal.pdf\",\n",
    "    \"IndiaCapablebutconstrained.pdf\",\n",
    "    \"IndiaChinaBorder.pdf\",\n",
    "    \"Indian Space Research Orgtanizations ISRO.pdf\",\n",
    "    \"IndianCapability.pdf\",\n",
    "    \"IndianGeographyPhysical.pdf\",\n",
    "    \"Indus-water-treaty-an-appraisal(8).pdf\",\n",
    "    \"ISRO space programme.pdf\",\n",
    "    \"MasteringtheGreyzone.pdf\",\n",
    "    \"MilitaryProfessionalGeography.pdf\",\n",
    "    \"Pakistan India and the Indus River Basin.pdf\",\n",
    "    \"PsiographyofIndia.pdf\",\n",
    "    \"RussiaWaragainstUkraine.pdf\",\n",
    "    \"SinoIndianBorder.pdf\",\n",
    "    \"SinoIndianWar1962.pdf\",\n",
    "    \"UkraineObservations.pdf\",\n",
    "    \"VoilenceinManipur.pdf\",\n",
    "]"
   ]
  },
  {
   "cell_type": "code",
   "execution_count": 15,
   "id": "47d23f6b-52f1-4ff6-858f-a192fd32de6d",
   "metadata": {},
   "outputs": [],
   "source": [
    "def load_pdf(file_path):\n",
    "    loader = PyPDFLoader(file_path)\n",
    "    return loader.load()"
   ]
  },
  {
   "cell_type": "code",
   "execution_count": 16,
   "id": "b0428328-b487-41e7-bf0a-989c9ffd8022",
   "metadata": {},
   "outputs": [],
   "source": [
    "data = []\n",
    "with ThreadPoolExecutor() as executor:\n",
    "     results = executor.map(load_pdf, pdf_files)\n",
    "     for result in results:\n",
    "         data.extend(result)"
   ]
  },
  {
   "cell_type": "code",
   "execution_count": 17,
   "id": "a2b055eb-106c-41ef-b5be-d2483bc3a28b",
   "metadata": {},
   "outputs": [
    {
     "name": "stdout",
     "output_type": "stream",
     "text": [
      "Total documents loaded: 2260\n"
     ]
    }
   ],
   "source": [
    "print(f\"Total documents loaded: {len(data)}\")"
   ]
  },
  {
   "cell_type": "code",
   "execution_count": 21,
   "id": "9988862a-9912-4ea5-85d2-fdea4625b977",
   "metadata": {},
   "outputs": [
    {
     "data": {
      "text/plain": [
       "Document(metadata={'source': 'Abbreviations.pdf', 'page': 1}, page_content='39 Deployment,Deployed Depl \\n40 Department  Dept \\n41 Development  Dev  \\n42 Development, develop Devp  \\n43 Different diff \\n44 Direction, Directions Dir \\n45 Discipline, Disciplines Discp \\n46 Distance Dist \\n47 Distribution Distr \\n48 District Distt \\n49 Document Docu \\n50 Economic Ec \\n51 Effect eff \\n52 Electric, Electrical, Electronic Elec \\n53 Elements elms \\n54 Employ, Employed, Employee  Emp \\n55 Environment Env \\n56 Environment, Environments,  Environmental Envmt \\n57 Equipment Epqt \\n58 Estimate, Estimated  est \\n59 Exercise  Ex \\n60 Executed   Exec \\n61 Expressed Expd \\n62 Flight Flt \\n63 Follow, Followed, Following  Fol \\n64 Frequencies   Freq \\n65 Geographical Geo \\n66 Government, governments Govt \\n67 Group gp \\n68 Ground gr \\n69 Geosynchronous satellite launch vehicle  GSLV \\n70 Geosynchronous transfer orbit GTO \\n71 Identification Ident \\n72 Important  Imp \\n73 Important, importance Imp  \\n74 Improvement Impro \\n75 Increase inc \\n76 Include incl \\n77 Increase, increased or increment Incr ')"
      ]
     },
     "execution_count": 21,
     "metadata": {},
     "output_type": "execute_result"
    }
   ],
   "source": [
    "data[1]"
   ]
  },
  {
   "cell_type": "code",
   "execution_count": 22,
   "id": "cdac2d40-6d2c-4405-a8b4-e9fb33aca8a2",
   "metadata": {},
   "outputs": [
    {
     "name": "stdout",
     "output_type": "stream",
     "text": [
      "Total number of documents:  5996\n"
     ]
    }
   ],
   "source": [
    "from langchain.text_splitter import RecursiveCharacterTextSplitter\n",
    "\n",
    "# split data\n",
    "text_splitter = RecursiveCharacterTextSplitter(chunk_size=1000)\n",
    "docs = text_splitter.split_documents(data)\n",
    "\n",
    "\n",
    "print(\"Total number of documents: \",len(docs))"
   ]
  },
  {
   "cell_type": "code",
   "execution_count": 24,
   "id": "fcda3f0c-ba3e-40bf-a876-6b57b904cda6",
   "metadata": {},
   "outputs": [
    {
     "data": {
      "text/plain": [
       "[0.03717122599482536,\n",
       " -0.062356337904930115,\n",
       " -0.017505498602986336,\n",
       " -0.017510710284113884,\n",
       " 0.03319702669978142]"
      ]
     },
     "execution_count": 24,
     "metadata": {},
     "output_type": "execute_result"
    }
   ],
   "source": [
    "from langchain_chroma import Chroma\n",
    "from langchain_google_genai import GoogleGenerativeAIEmbeddings\n",
    "\n",
    "from dotenv import load_dotenv\n",
    "load_dotenv() \n",
    "\n",
    "#Create Embeddings\n",
    "embeddings = GoogleGenerativeAIEmbeddings(model=\"models/embedding-001\")\n",
    "vector = embeddings.embed_query(\"Developing a Strategy for the Gray Zone\")\n",
    "vector[:5]"
   ]
  },
  {
   "cell_type": "code",
   "execution_count": 25,
   "id": "38178075-01f2-4714-9af7-a9a4a3c1d3e7",
   "metadata": {},
   "outputs": [],
   "source": [
    "from tqdm import tqdm\n",
    "\n",
    "# Process in smaller chunks\n",
    "chunk_size = 100\n",
    "all_docs = []\n",
    "\n",
    "for i in range(0, len(docs), chunk_size):\n",
    "    chunk = docs[i:i + chunk_size]\n",
    "    try:\n",
    "        vectorstore = Chroma.from_documents(\n",
    "            documents=chunk,\n",
    "            embedding=embeddings,\n",
    "            persist_directory=\"./vector_db_store\"\n",
    "        )\n",
    "    except Exception as e:\n",
    "        print(f\"Error processing chunk {i}-{i+chunk_size}: {str(e)}\")"
   ]
  },
  {
   "cell_type": "code",
   "execution_count": 114,
   "id": "3fbbc460-2350-46d8-bdcd-4b1970770f19",
   "metadata": {},
   "outputs": [],
   "source": [
    "retriever = vectorstore.as_retriever(search_type=\"similarity\", search_kwargs={\"k\": 3})\n",
    "query=\"why design of a sat structure becomes more complex\"\n",
    "retrieved_docs = retriever.invoke(query)"
   ]
  },
  {
   "cell_type": "code",
   "execution_count": 115,
   "id": "4844c811-ded9-424e-8fa0-ab5025806af7",
   "metadata": {},
   "outputs": [
    {
     "data": {
      "text/plain": [
       "3"
      ]
     },
     "execution_count": 115,
     "metadata": {},
     "output_type": "execute_result"
    }
   ],
   "source": [
    "len(retrieved_docs)"
   ]
  },
  {
   "cell_type": "code",
   "execution_count": 116,
   "id": "a643de19-919b-4851-93cd-0e4cb05a1dad",
   "metadata": {},
   "outputs": [
    {
     "name": "stdout",
     "output_type": "stream",
     "text": [
      "[Document(metadata={'page': 8, 'source': 'ISRO space programme.pdf'}, page_content='the dev of extensive data-integrity checks, detailed sub-sys \\nmodelling and dev of computer-aided design packages for \\ninteractive design. Inherent difficulties in handling large-sized \\ndynamic problems, often infeasible by direct methods, have \\nnecessitated work on dynamic sub structuring which is also useful \\nin providing inputs to testing of the units of a large structure, \\nwhich cannot be tested as a whole. Emphasis on mass \\nreduction needs optimization routines. Efforts on IRS and INSAT \\nII reflect much of this higher lvl sophistication in analysis. \\nIn a nutshell, the evolution of structural design, analysis, \\nand testing methods have led to the realization of optimal \\nstructural hardware for sats like IRS and INSAT II. Further, such \\nimproved and sophisticated apch have also resulted in a reduced \\nnumber of models to be built for design validation through testing \\nin view of the higher degree of confidence in the design, analysis, \\nand testing methods for the current sats.'), Document(metadata={'page': 8, 'source': 'ISRO space programme.pdf'}, page_content='of static and dynamic models from Aryabhata to INSAT II (see \\nfigure 3). Apart from the sheer increase in the size of problems, \\nfunctionally there has been growth and diversification of activities. \\nStatic analysis and free vibration were considered sufficient in the \\nearlier years of Aryabhata and Bhaskara due to lesser needs \\nand paucity of resources. Presently, analysis encompasses in \\naddn to the above, creation of low order dynamic models, sub\\xad\\nsys modelling, analysis of accuracies in representing dynamic \\nbehaviour especially for large sizes, computer-aided design, \\noptimization, correlation with test data and model improvements, \\ncreation of unified data bases, consideration of nonlinearities and \\nso on. \\nThe inc complexity of sats has been reflected in attempts at \\nthe dev of extensive data-integrity checks, detailed sub-sys \\nmodelling and dev of computer-aided design packages for \\ninteractive design. Inherent difficulties in handling large-sized'), Document(metadata={'page': 3, 'source': 'ISRO space programme.pdf'}, page_content='3. Evolution of Tech of Sub-Sys \\nAs mentioned ear I i e r, a sat is the product of a variety of \\nengineering discp. Even though these discp have been brought to \\nbear on the realization of a number of conventional terrestrial sys, \\nwhat distinguishes the appl of these engineering principles to a space \\nsys is the need to realize sys that could op unattended and with a high \\ndegree of reliability in the hostile envmt of space. The other and \\nequally imp aspect is to make the sys lt-wt, low-power consuming and \\nminiature, calling for a high degree of design optimization. In the fol \\nfew pages, the evolution of the tech of diff sat sub-sys towards a \\nhigher lvl of complexity and sophistication is dealt with keeping the \\nabove considerations in mind. \\n3.1 Structure \\nThe main function of the structure is to safely house all the sub\\xad\\nsys and provide adequate shielding against the hostile envmt of space. \\nIt should have the ability to withstand envmt loads arising from gr')]\n"
     ]
    }
   ],
   "source": [
    "print(retrieved_docs)"
   ]
  },
  {
   "cell_type": "code",
   "execution_count": 52,
   "id": "d9590de4-d1bf-417e-ac4c-cd87e4e3446a",
   "metadata": {},
   "outputs": [
    {
     "name": "stdout",
     "output_type": "stream",
     "text": [
      "[Document(metadata={'page': 0, 'source': 'Abbreviations.pdf'}, page_content='\\\\Ser Word Abbreviation \\n1 Gps aided geo augmented navigation GAGAN \\n2 Account Acct \\n3 Additional, additionally Addl  \\n4 Addition Addn  \\n5 Administration admin \\n6 armed forces AF \\n7 Armed forces special power act AFSPA \\n8 Approach, Aproaches Apch \\n9 Application  Appl \\n10 Attack Atk \\n11 Attention  Attn \\n12 Advanced technology vehicle ATV \\n13 Automatic auto \\n14 Available Avail \\n15 Between b/w \\n16 Border Bdr \\n17 Borders Bdrs \\n18 Boundary Bfry \\n19 Building Bldg \\n20 Calculation  calc \\n21 Capabilities Cap \\n22 Combatants Cbt \\n23 Commander Cdr \\n24 Characterized Char \\n25 Comments Cm \\n26 Commands Cmd \\n27 Collaboration Colb \\n28 Community, communities Com \\n29 Command, Commands, Commanding comd \\n30 Communication Comm \\n31 Control Con \\n32 Conclude, conclusion  Concl \\n33 Consultation Conslt \\n34 Continuous, Continuously cont \\n35 Cooperation coop \\n36 Decrease, Decreases, Decreasing dec \\n37 Defense def \\n38 Demographic Demo'), Document(metadata={'page': 41, 'source': 'SinoIndianBorder.pdf'}, page_content='Galwan \\nA Pr~sentation by \\xad\\nAditya Roy \\nB .E . (AEIE) \\nUnivers ity Inst itute Of \\nTechnology , Burdwan'), Document(metadata={'page': 31, 'source': 'SinoIndianBorder.pdf'}, page_content='ACKNOWLDGEMENT \\nThe author is grateful to his project adviser, Rakhahari Chatterji, and \\ntwo anonymous reviewers for their valuable suggestions on an early \\ndraftofthis paper. \\n28 ORF OCCASIONAL PAPER# 143 • FEBRUARY 2018')]\n",
      "41\n",
      "SinoIndianBorder.pdf\n"
     ]
    }
   ],
   "source": [
    "print(retrieved_docs)\n",
    "print(retrieved_docs[1].metadata['page'])\n",
    "print(retrieved_docs[1].metadata['source'])"
   ]
  },
  {
   "cell_type": "code",
   "execution_count": 131,
   "id": "23caf2a9-bee4-47a3-a23e-2f89845497a2",
   "metadata": {},
   "outputs": [],
   "source": [
    "#separate from code"
   ]
  },
  {
   "cell_type": "code",
   "execution_count": 117,
   "id": "fba55e55-2e37-476f-b396-73d8159df2bb",
   "metadata": {},
   "outputs": [],
   "source": [
    "formatted_context = []\n",
    "\n",
    "for i, chunk in enumerate(retrieved_docs):\n",
    "    context_entry = (\n",
    "        f\"Text Snippet {i+1}: {chunk.page_content}\\n\"\n",
    "        f\"Source: {chunk.metadata['source']}, Page: {chunk.metadata['page']}\"\n",
    "    )\n",
    "    formatted_context.append(context_entry)\n",
    "\n",
    "# Join all entries with double newlines\n",
    "final_context = \"\\n\\n\".join(formatted_context)"
   ]
  },
  {
   "cell_type": "code",
   "execution_count": 130,
   "id": "4079a90b-7211-412a-92b3-3f9d7903e4fb",
   "metadata": {},
   "outputs": [],
   "source": [
    "from langchain.prompts import PromptTemplate"
   ]
  },
  {
   "cell_type": "code",
   "execution_count": 132,
   "id": "13ee7a91-83eb-42c3-b545-57bb89f55de3",
   "metadata": {},
   "outputs": [],
   "source": [
    "document_prompt = PromptTemplate.from_template(\n",
    "    \"Exact text: {page_content}\\nSource: {source}\\nPage: {page}\"\n",
    ")"
   ]
  },
  {
   "cell_type": "code",
   "execution_count": 29,
   "id": "e6e6ab3c-8160-4cdd-be47-9518a576ee48",
   "metadata": {},
   "outputs": [],
   "source": [
    "from langchain_google_genai import ChatGoogleGenerativeAI\n",
    "\n",
    "llm = ChatGoogleGenerativeAI(model=\"gemini-1.5-flash\",temperature=0.3, max_tokens=1000)"
   ]
  },
  {
   "cell_type": "code",
   "execution_count": 149,
   "id": "4b88d4d0-5215-4606-a8f9-0a87e608a2b3",
   "metadata": {},
   "outputs": [],
   "source": [
    "from langchain.chains import create_retrieval_chain\n",
    "from langchain.chains.combine_documents import create_stuff_documents_chain\n",
    "from langchain_core.prompts import ChatPromptTemplate\n",
    "\n",
    "system_prompt = (\n",
    "   \"\"\"\n",
    "  You are a factual assistant. Follow these steps:\n",
    "1. Provide a direct answer.\n",
    "2. Extract EXACT text snippets with sources from the provided context.\n",
    "3. Structure the response as a JSON object with the following format:\n",
    "format: {{ \n",
    "    \"answer\": [Direct factual answer or null if not found], \n",
    "    \"references\": [ {{ \n",
    "        \"exact_text\": [Extracted text or null if not found], \n",
    "        \"source\": [Filename or null], \n",
    "        \"page\": [Page number or null], \n",
    "        \"figure\": [Figure number if mentioned, otherwise null] \n",
    "    }}, \n",
    "    ... \n",
    "    ] \n",
    "}}\n",
    "\n",
    "**Rules:** \n",
    "- If any information is missing, set it to `null` instead of omitting it. \n",
    "- Ensure `references` is an array, even if it has zero or one entries.\n",
    "- If a reference contains a **figure number**, extract it and include it in the `\"figure\"` field. \n",
    "- return only a valid json not mention it on above\n",
    "- If no relevant information is found in the context, return: \n",
    "{{ \"answer\": null, \"references\": [] }}\n",
    "\n",
    "**Context:** \n",
    "{context}\n",
    "  \n",
    "        \"\"\"\n",
    ")\n",
    "\n",
    "prompt = ChatPromptTemplate.from_messages(\n",
    "    [\n",
    "        (\"system\", system_prompt),\n",
    "        (\"human\", \"{input}\"),\n",
    "    ]\n",
    ")"
   ]
  },
  {
   "cell_type": "code",
   "execution_count": 150,
   "id": "feaa0aa4-43ac-481e-bd80-38a5b6a57600",
   "metadata": {},
   "outputs": [],
   "source": [
    "question_answer_chain = create_stuff_documents_chain(llm, prompt ,document_prompt=document_prompt)\n",
    "rag_chain = create_retrieval_chain(retriever, question_answer_chain)"
   ]
  },
  {
   "cell_type": "code",
   "execution_count": 151,
   "id": "3907909f-b214-417f-9b7f-af47399784ee",
   "metadata": {},
   "outputs": [
    {
     "name": "stdout",
     "output_type": "stream",
     "text": [
      "```json\n",
      "{\n",
      "  \"answer\": \"The provided text mentions that Figure 2.1 shows Russian gas supplies as a percentage of total gas imports in Europe, with categories above 90%, 50-89%, 10-49%, below 10%, and no natural gas infrastructure.  However, the figure itself is not included in this text.\",\n",
      "  \"references\": [\n",
      "    {\n",
      "      \"exact_text\": \"Figure2.1\\nRussian Supplies as a Percentage of Total Gas Imports in Europe\\n• Above 90%\\nD 50%-89%\\n• 10%-49%\\nD Below 10%\\nD No natural gas\\ninfrastru ctu re\",\n",
      "      \"source\": \"GreyzoneWarfare.pdf\",\n",
      "      \"page\": \"23\",\n",
      "      \"figure\": \"2.1\"\n",
      "    }\n",
      "  ]\n",
      "}\n",
      "```\n",
      "Response Time :  3.834144353866577\n"
     ]
    }
   ],
   "source": [
    "import time \n",
    "start_time = time.time()\n",
    "response = rag_chain.invoke({\"input\": \"give me some Russian Supplies as a Percentage of Total Gas Imports in Europe\"})\n",
    "print(response[\"answer\"])\n",
    "end_time = time.time()\n",
    "total_time = end_time - start_time\n",
    "print(\"Response Time : \" , total_time)"
   ]
  },
  {
   "cell_type": "code",
   "execution_count": null,
   "id": "25bec3e6-314a-4d8c-8030-910242e5a3e3",
   "metadata": {},
   "outputs": [],
   "source": []
  },
  {
   "cell_type": "code",
   "execution_count": null,
   "id": "37bbb64e-b6f8-4b8f-8fb3-d46f0a636320",
   "metadata": {},
   "outputs": [],
   "source": []
  },
  {
   "cell_type": "code",
   "execution_count": null,
   "id": "102858da-f43a-4be8-b43c-8871e0047037",
   "metadata": {},
   "outputs": [],
   "source": []
  },
  {
   "cell_type": "code",
   "execution_count": null,
   "id": "ea3d5bf1-e173-4d70-8be4-c5ce95b6a42c",
   "metadata": {},
   "outputs": [],
   "source": []
  },
  {
   "cell_type": "code",
   "execution_count": null,
   "id": "d5408829-5e18-4277-bda5-bf86f64ea616",
   "metadata": {},
   "outputs": [],
   "source": []
  },
  {
   "cell_type": "code",
   "execution_count": null,
   "id": "e2bd3e55-2ff5-4319-af83-38bd8de8fb8d",
   "metadata": {},
   "outputs": [],
   "source": []
  },
  {
   "cell_type": "code",
   "execution_count": null,
   "id": "3788762e-1944-48bb-9166-3a3fc7192e94",
   "metadata": {},
   "outputs": [],
   "source": []
  }
 ],
 "metadata": {
  "kernelspec": {
   "display_name": "Python 3 (ipykernel)",
   "language": "python",
   "name": "python3"
  },
  "language_info": {
   "codemirror_mode": {
    "name": "ipython",
    "version": 3
   },
   "file_extension": ".py",
   "mimetype": "text/x-python",
   "name": "python",
   "nbconvert_exporter": "python",
   "pygments_lexer": "ipython3",
   "version": "3.10.15"
  }
 },
 "nbformat": 4,
 "nbformat_minor": 5
}
